{
  "nbformat": 4,
  "nbformat_minor": 0,
  "metadata": {
    "colab": {
      "provenance": [],
      "authorship_tag": "ABX9TyMIJVBD/dh5rZGCN/9BRpfR",
      "include_colab_link": true
    },
    "kernelspec": {
      "name": "python3",
      "display_name": "Python 3"
    },
    "language_info": {
      "name": "python"
    }
  },
  "cells": [
    {
      "cell_type": "markdown",
      "metadata": {
        "id": "view-in-github",
        "colab_type": "text"
      },
      "source": [
        "<a href=\"https://colab.research.google.com/github/Park-yonghoon/Capstone_Project/blob/master/Chp08_2_%ED%95%A9%EC%84%B1%EA%B3%B1_%EC%8B%A0%EA%B2%BD%EB%A7%9D%EC%9D%84_%EC%82%AC%EC%9A%A9%ED%95%9C_%EC%9D%B4%EB%AF%B8%EC%A7%80_%EB%B6%84%EB%A5%98.ipynb\" target=\"_parent\"><img src=\"https://colab.research.google.com/assets/colab-badge.svg\" alt=\"Open In Colab\"/></a>"
      ]
    },
    {
      "cell_type": "code",
      "execution_count": null,
      "metadata": {
        "colab": {
          "base_uri": "https://localhost:8080/",
          "height": 1000
        },
        "id": "OQrLlXWoCqeZ",
        "outputId": "c1dfeab4-8d5a-4ac0-e3e1-6ee9975b2331"
      },
      "outputs": [
        {
          "output_type": "stream",
          "name": "stdout",
          "text": [
            "Downloading data from https://storage.googleapis.com/tensorflow/tf-keras-datasets/train-labels-idx1-ubyte.gz\n",
            "29515/29515 [==============================] - 0s 0us/step\n",
            "Downloading data from https://storage.googleapis.com/tensorflow/tf-keras-datasets/train-images-idx3-ubyte.gz\n",
            "26421880/26421880 [==============================] - 0s 0us/step\n",
            "Downloading data from https://storage.googleapis.com/tensorflow/tf-keras-datasets/t10k-labels-idx1-ubyte.gz\n",
            "5148/5148 [==============================] - 0s 0us/step\n",
            "Downloading data from https://storage.googleapis.com/tensorflow/tf-keras-datasets/t10k-images-idx3-ubyte.gz\n",
            "4422102/4422102 [==============================] - 0s 0us/step\n",
            "Model: \"sequential\"\n",
            "_________________________________________________________________\n",
            " Layer (type)                Output Shape              Param #   \n",
            "=================================================================\n",
            " conv2d (Conv2D)             (None, 28, 28, 32)        320       \n",
            "                                                                 \n",
            " max_pooling2d (MaxPooling2D  (None, 14, 14, 32)       0         \n",
            " )                                                               \n",
            "                                                                 \n",
            " conv2d_1 (Conv2D)           (None, 14, 14, 64)        18496     \n",
            "                                                                 \n",
            " max_pooling2d_1 (MaxPooling  (None, 7, 7, 64)         0         \n",
            " 2D)                                                             \n",
            "                                                                 \n",
            " flatten (Flatten)           (None, 3136)              0         \n",
            "                                                                 \n",
            " dense (Dense)               (None, 100)               313700    \n",
            "                                                                 \n",
            " dropout (Dropout)           (None, 100)               0         \n",
            "                                                                 \n",
            " dense_1 (Dense)             (None, 10)                1010      \n",
            "                                                                 \n",
            "=================================================================\n",
            "Total params: 333,526\n",
            "Trainable params: 333,526\n",
            "Non-trainable params: 0\n",
            "_________________________________________________________________\n",
            "Epoch 1/20\n",
            "1500/1500 [==============================] - 76s 50ms/step - loss: 0.5221 - accuracy: 0.8157 - val_loss: 0.3344 - val_accuracy: 0.8798\n",
            "Epoch 2/20\n",
            "1500/1500 [==============================] - 71s 47ms/step - loss: 0.3487 - accuracy: 0.8758 - val_loss: 0.2775 - val_accuracy: 0.8978\n",
            "Epoch 3/20\n",
            "1500/1500 [==============================] - 70s 46ms/step - loss: 0.2939 - accuracy: 0.8939 - val_loss: 0.2635 - val_accuracy: 0.9017\n",
            "Epoch 4/20\n",
            "1500/1500 [==============================] - 68s 46ms/step - loss: 0.2623 - accuracy: 0.9045 - val_loss: 0.2415 - val_accuracy: 0.9094\n",
            "Epoch 5/20\n",
            "1500/1500 [==============================] - 69s 46ms/step - loss: 0.2384 - accuracy: 0.9133 - val_loss: 0.2275 - val_accuracy: 0.9169\n",
            "Epoch 6/20\n",
            "1500/1500 [==============================] - 72s 48ms/step - loss: 0.2174 - accuracy: 0.9188 - val_loss: 0.2214 - val_accuracy: 0.9185\n",
            "Epoch 7/20\n",
            "1500/1500 [==============================] - 69s 46ms/step - loss: 0.2000 - accuracy: 0.9253 - val_loss: 0.2131 - val_accuracy: 0.9221\n",
            "Epoch 8/20\n",
            "1500/1500 [==============================] - 71s 47ms/step - loss: 0.1853 - accuracy: 0.9314 - val_loss: 0.2171 - val_accuracy: 0.9205\n",
            "Epoch 9/20\n",
            "1500/1500 [==============================] - 71s 47ms/step - loss: 0.1719 - accuracy: 0.9361 - val_loss: 0.2170 - val_accuracy: 0.9253\n"
          ]
        },
        {
          "output_type": "display_data",
          "data": {
            "text/plain": [
              "<Figure size 432x288 with 1 Axes>"
            ],
            "image/png": "[encoded data removed]"
          },
          "metadata": {
            "needs_background": "light"
          }
        },
        {
          "output_type": "stream",
          "name": "stdout",
          "text": [
            "375/375 [==============================] - 6s 16ms/step - loss: 0.2131 - accuracy: 0.9221\n"
          ]
        },
        {
          "output_type": "display_data",
          "data": {
            "text/plain": [
              "<Figure size 432x288 with 1 Axes>"
            ],
            "image/png": "[encoded data removed]"
          },
          "metadata": {
            "needs_background": "light"
          }
        },
        {
          "output_type": "stream",
          "name": "stdout",
          "text": [
            "1/1 [==============================] - 0s 115ms/step\n",
            "[[2.3797561e-20 8.6659162e-29 2.3665817e-22 5.7404218e-21 7.0402875e-22\n",
            "  2.0860459e-17 8.8809527e-18 3.6951356e-17 1.0000000e+00 9.2087588e-20]]\n"
          ]
        },
        {
          "output_type": "display_data",
          "data": {
            "text/plain": [
              "<Figure size 432x288 with 1 Axes>"
            ],
            "image/png": "[encoded data removed]"
          },
          "metadata": {
            "needs_background": "light"
          }
        },
        {
          "output_type": "stream",
          "name": "stdout",
          "text": [
            "가방\n",
            "313/313 [==============================] - 4s 13ms/step - loss: 0.2331 - accuracy: 0.9172\n"
          ]
        },
        {
          "output_type": "execute_result",
          "data": {
            "text/plain": [
              "[0.23313800990581512, 0.9172000288963318]"
            ]
          },
          "metadata": {},
          "execution_count": 1
        }
      ],
      "source": [
        "\"\"\"# 합성곱 신경망을 사용한 이미지 분류\"\"\"\n",
        "\n",
        "\"\"\"## 패션 MNIST 데이터 불러오기\"\"\"\n",
        "\n",
        "from tensorflow import keras\n",
        "from sklearn.model_selection import train_test_split\n",
        "\n",
        "(train_input, train_target), (test_input, test_target) =\\\n",
        "    keras.datasets.fashion_mnist.load_data()\n",
        "\n",
        "train_scaled = train_input.reshape(-1, 28, 28, 1) / 255.0\n",
        "\n",
        "train_scaled, val_scaled, train_target, val_target = train_test_split(\n",
        "    train_scaled, train_target, test_size=0.2, random_state=42)\n",
        "\n",
        "\"\"\"## 합성곱 신경망 만들기\"\"\"\n",
        "\n",
        "model = keras.Sequential()\n",
        "\n",
        "model.add(keras.layers.Conv2D(32, kernel_size=3, activation='relu',\n",
        "          padding='same', input_shape=(28,28,1)))\n",
        "\n",
        "model.add(keras.layers.MaxPooling2D(2))\n",
        "\n",
        "model.add(keras.layers.Conv2D(64, kernel_size=(3,3), activation='relu',\n",
        "          padding='same'))\n",
        "model.add(keras.layers.MaxPooling2D(2))\n",
        "\n",
        "model.add(keras.layers.Flatten())\n",
        "model.add(keras.layers.Dense(100, activation='relu'))\n",
        "model.add(keras.layers.Dropout(0.4))\n",
        "model.add(keras.layers.Dense(10, activation='softmax'))\n",
        "\n",
        "model.summary()\n",
        "\n",
        "keras.utils.plot_model(model)\n",
        "\n",
        "keras.utils.plot_model(model, show_shapes=True, to_file='cnn-architecture.png', dpi=300)\n",
        "\n",
        "\"\"\"## model compile & training\"\"\"\n",
        "\n",
        "model.compile(optimizer='adam', loss='sparse_categorical_crossentropy', metrics='accuracy')\n",
        "\n",
        "checkpoint_cb = keras.callbacks.ModelCheckpoint('best-cnn-model.h5')\n",
        "early_stopping_cb = keras.callbacks.EarlyStopping(patience=2, restore_best_weights=True)\n",
        "\n",
        "history = model.fit(train_scaled, train_target, epochs=20,\n",
        "                    validation_data=(val_scaled, val_target),\n",
        "                    callbacks=[checkpoint_cb, early_stopping_cb])\n",
        "\n",
        "import matplotlib.pyplot as plt\n",
        "\n",
        "plt.plot(history.history['loss'])\n",
        "plt.plot(history.history['val_loss'])\n",
        "plt.xlabel('epoch')\n",
        "plt.ylabel('loss')\n",
        "plt.legend(['train', 'val'])\n",
        "plt.show()\n",
        "\n",
        "model.evaluate(val_scaled, val_target)\n",
        "\n",
        "plt.imshow(val_scaled[0].reshape(28, 28), cmap='gray_r')\n",
        "plt.show()\n",
        "\n",
        "preds = model.predict(val_scaled[0:1])\n",
        "print(preds)\n",
        "\n",
        "plt.bar(range(1, 11), preds[0])\n",
        "plt.xlabel('class')\n",
        "plt.ylabel('prob.')\n",
        "plt.show()\n",
        "\n",
        "classes = ['티셔츠', '바지', '스웨터', '드레스', '코트', '샌달', '셔츠', '스니커즈', '가방', '앵클 부츠']\n",
        "\n",
        "import numpy as np\n",
        "print(classes[np.argmax(preds)])\n",
        "\n",
        "test_scaled = test_input.reshape(-1, 28, 28, 1) / 255.0\n",
        "\n",
        "model.evaluate(test_scaled, test_target)"
      ]
    },
    {
      "cell_type": "markdown",
      "source": [
        "## Keyword & Main point\n",
        "- Tensorflow의 Conv2D, MaxPooling2D, plot_model를 활용한 실습을 했습니다.\n",
        "## Main Package & Function\n",
        "- Con2D는 입력의 너비와 높이 방향의 합성곱 연산을 구현한 클래스입니다.        첫 번째 매개변수는 합성곱 필터의 개수입니다.\n",
        "\n",
        "   kernel_size 매개변수는 필터의 kernel 크기를 지정합니다. 가로세로 크기가 같은 경우 정수 하나로, 다른 경우 정수의 tuple로 지정할 수 있습니다. 일반적으로 커널의 가로세로 크기는 동일합니다. 커널의 깊이는 입력의 깊이와 동일하기 때문에 따로 지정하지 않습니다.\n",
        "\n",
        "   strides 매개변수는 필터의 이동 간격을 지정합니다. 가로세로 크기가 같은 경우 정수 하나로, 다른 경우 정수의 튜플로 지정할 수 있습니다. 일반적으로 가로세로 stride 크기는 동일합니다. 기본값은 1입니다.\n",
        "\n",
        "   padding 매개변수는 입력의 padding 타입을 지정합니다. 기본값 'valid'는 패딩을 하지 않습니다. 'same'은 합성곱 층의 출력의 가로세로 크기를 입력과 동일하게 맞추도록 입력에 패딩을 추가합니다.\n",
        "\n",
        "   activation 매개변수는 합성곱 층에 적용할 활성화 함수를 지정합니다.\n",
        "\n",
        "- MaxPooling2D는 입력의 너비와 높이를 줄이는 풀링 연산을 구현한 클래스입니다. 첫 번째 매개변수는 풀링의 크기를 지정하며, 가로세로 크기가 같은 경우 정수 하나로, 다른 경우 정수의 tuple로 지정할 수 있습니다. 일반적으로 풀링의 가로세로 크기는 같게 지정합니다.\n",
        "\n",
        "  strides 매개변수는 풀링의 이동 간격을 지정합니다. 기본값은 풀링의 크기와 동일합니다. 즉 입력 위를 겹쳐서 풀링하지 않습니다.\n",
        "\n",
        "  padding 매개변수는 입력의 패딩 타입을 지정합니다. 기본값 'valid'는 패딩을 하지 않습니다. 'same'은 합성곱 층의 출력의 가로세로 크기를 입력과 동일하게 맞추도록 입력에 패딩을 추가합니다.\n",
        "\n",
        "- plot_model()은 케라스 모델 구조를 주피터 노트북에 그리거나 파일로 지정합니다. 첫 번째 매개변수에 케라스 모델 객체를 전달합니다.\n",
        "\n",
        "  to_file은 매개변수에 파일 이름을 지정하면 그림을 파일로 저장합니다.\n",
        "\n",
        "  show_shapes 매개변수를 True로 지정하면 층의 입력, 출력 크기를 표시합니다. 기본값은 False입니다.\n",
        "\n",
        "  show_layer_names 매개변수를 True로 지정하면 층 이름을 출력합니다. 기본값이 True입니다.\n",
        "\n",
        "  ## matplotlib\n",
        "- bar()는 막대 그래프를 출력합니다.\n",
        "\n",
        "  첫 번째 매개변수에 x축의 값을 리스트나 numpy 배열로 전달합니다.\n",
        "\n",
        "  두 번째 매개변수에 y축의 값을 리스트나 numpy 배열로 전달합니다.\n",
        "  \n",
        "  width 매개변수에서 막대의 두께를 저장할 수 있습니다. 기본값은 0.8입니다.\n",
        "\n"
      ],
      "metadata": {
        "id": "Mn3h2qmP55Qw"
      }
    },
    {
      "cell_type": "code",
      "source": [],
      "metadata": {
        "id": "fSsCX53t5-P-"
      },
      "execution_count": null,
      "outputs": []
    }
  ]
}